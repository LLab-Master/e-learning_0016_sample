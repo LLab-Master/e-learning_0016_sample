{
 "cells": [
  {
   "cell_type": "markdown",
   "metadata": {},
   "source": [
    "# Pandas"
   ]
  },
  {
   "cell_type": "markdown",
   "metadata": {},
   "source": [
    "## Pandasとは\n",
    "\n",
    "　データ解析を行うためのPythonライブラリです。 \n",
    "　データ解析を効率よく進めるための、データ構造とメソッドを提供します。\n",
    " \n",
    "　ここでは、Pandas を使って、収集したデータの事前解析、改修行うデータクレンジングの手法を学習します。\n"
   ]
  },
  {
   "cell_type": "markdown",
   "metadata": {},
   "source": [
    "## Pandasのデータ型\n",
    "\n",
    "　Pandas は以下のデータ型を扱います。　最もよく使われるのは、DataFrameです。本書でも DataFrame を中心に解説します。\n",
    "\n",
    " \n",
    "- Series\n",
    "\n",
    "　リスト(1次元配列のデータ)。\n",
    " \n",
    "　　　　![series.png](fig/series.png)\n",
    " \n",
    "- DataFrame\n",
    "\n",
    "\n",
    "　表(2次元配列データ)。\n",
    " \n",
    "　　　　![series.png](fig/dataframe.png)\n",
    " \n",
    "- Panel\n",
    "\n",
    "　表の集まり(3次元データ)。\n",
    " \n",
    "　　　　![series.png](fig/panel.png)\n",
    "\n"
   ]
  },
  {
   "cell_type": "markdown",
   "metadata": {},
   "source": [
    "## DataFrameの基本操作\n"
   ]
  },
  {
   "cell_type": "code",
   "execution_count": 1,
   "metadata": {},
   "outputs": [],
   "source": [
    "import pandas as pd\n",
    "\n",
    "# 表が大きい時の表示範囲を制限\n",
    "pd.set_option('display.max_columns', 9)\n",
    "pd.set_option('display.max_rows', 10)"
   ]
  },
  {
   "cell_type": "markdown",
   "metadata": {},
   "source": [
    "### DataFrame を作る\n",
    "\n",
    "#### DataFrame はリストや辞書から作ることができます、\n"
   ]
  },
  {
   "cell_type": "code",
   "execution_count": 2,
   "metadata": {},
   "outputs": [
    {
     "data": {
      "text/html": "<div>\n<style scoped>\n    .dataframe tbody tr th:only-of-type {\n        vertical-align: middle;\n    }\n\n    .dataframe tbody tr th {\n        vertical-align: top;\n    }\n\n    .dataframe thead th {\n        text-align: right;\n    }\n</style>\n<table border=\"1\" class=\"dataframe\">\n  <thead>\n    <tr style=\"text-align: right;\">\n      <th></th>\n      <th>c1</th>\n      <th>c2</th>\n      <th>c3</th>\n    </tr>\n  </thead>\n  <tbody>\n    <tr>\n      <th>r1</th>\n      <td>101</td>\n      <td>205</td>\n      <td>300</td>\n    </tr>\n    <tr>\n      <th>r2</th>\n      <td>303</td>\n      <td>111</td>\n      <td>6</td>\n    </tr>\n  </tbody>\n</table>\n</div>",
      "text/plain": "     c1   c2   c3\nr1  101  205  300\nr2  303  111    6"
     },
     "execution_count": 2,
     "metadata": {},
     "output_type": "execute_result"
    }
   ],
   "source": [
    "# リストから作る\n",
    "#  リストの1要素が1行になる\n",
    "df = pd.DataFrame(\n",
    "    [[101, 205, 300], \n",
    "     [303, 111, 6]])\n",
    "\n",
    "# 列名を付ける\n",
    "df.columns = ('c1', 'c2', 'c3')\n",
    "# 行名を付ける\n",
    "df.index = ('r1', 'r2')\n",
    "\n",
    "df"
   ]
  },
  {
   "cell_type": "code",
   "execution_count": 3,
   "metadata": {},
   "outputs": [
    {
     "data": {
      "text/html": "<div>\n<style scoped>\n    .dataframe tbody tr th:only-of-type {\n        vertical-align: middle;\n    }\n\n    .dataframe tbody tr th {\n        vertical-align: top;\n    }\n\n    .dataframe thead th {\n        text-align: right;\n    }\n</style>\n<table border=\"1\" class=\"dataframe\">\n  <thead>\n    <tr style=\"text-align: right;\">\n      <th></th>\n      <th>c1</th>\n      <th>c2</th>\n      <th>c3</th>\n    </tr>\n  </thead>\n  <tbody>\n    <tr>\n      <th>0</th>\n      <td>101</td>\n      <td>205</td>\n      <td>111</td>\n    </tr>\n    <tr>\n      <th>1</th>\n      <td>303</td>\n      <td>111</td>\n      <td>6</td>\n    </tr>\n  </tbody>\n</table>\n</div>",
      "text/plain": "    c1   c2   c3\n0  101  205  111\n1  303  111    6"
     },
     "execution_count": 3,
     "metadata": {},
     "output_type": "execute_result"
    }
   ],
   "source": [
    "# 辞書から作る\n",
    "#  キーが列名になる\n",
    "df = pd.DataFrame(\n",
    "    {'c1':[101, 303], \n",
    "     'c2':[205, 111], \n",
    "     'c3':[111, 6]})\n",
    "\n",
    "df"
   ]
  },
  {
   "cell_type": "markdown",
   "metadata": {},
   "source": [
    "#### CSV ファイルから作ることもできます。"
   ]
  },
  {
   "cell_type": "code",
   "execution_count": 4,
   "metadata": {},
   "outputs": [
    {
     "data": {
      "text/html": "<div>\n<style scoped>\n    .dataframe tbody tr th:only-of-type {\n        vertical-align: middle;\n    }\n\n    .dataframe tbody tr th {\n        vertical-align: top;\n    }\n\n    .dataframe thead th {\n        text-align: right;\n    }\n</style>\n<table border=\"1\" class=\"dataframe\">\n  <thead>\n    <tr style=\"text-align: right;\">\n      <th></th>\n      <th>c1</th>\n      <th>c2</th>\n      <th>c3</th>\n      <th>c4</th>\n    </tr>\n  </thead>\n  <tbody>\n    <tr>\n      <th>0</th>\n      <td>101</td>\n      <td>205</td>\n      <td>300</td>\n      <td>324</td>\n    </tr>\n    <tr>\n      <th>1</th>\n      <td>303</td>\n      <td>111</td>\n      <td>6</td>\n      <td>23</td>\n    </tr>\n    <tr>\n      <th>2</th>\n      <td>23</td>\n      <td>1000</td>\n      <td>1112</td>\n      <td>324</td>\n    </tr>\n    <tr>\n      <th>3</th>\n      <td>23</td>\n      <td>45</td>\n      <td>3242</td>\n      <td>1</td>\n    </tr>\n    <tr>\n      <th>4</th>\n      <td>0</td>\n      <td>0</td>\n      <td>999</td>\n      <td>999</td>\n    </tr>\n    <tr>\n      <th>5</th>\n      <td>123</td>\n      <td>345</td>\n      <td>445</td>\n      <td>0</td>\n    </tr>\n    <tr>\n      <th>6</th>\n      <td>32</td>\n      <td>3424</td>\n      <td>23</td>\n      <td>3</td>\n    </tr>\n    <tr>\n      <th>7</th>\n      <td>4324</td>\n      <td>23</td>\n      <td>566</td>\n      <td>21</td>\n    </tr>\n    <tr>\n      <th>8</th>\n      <td>1</td>\n      <td>2</td>\n      <td>3456</td>\n      <td>4321</td>\n    </tr>\n    <tr>\n      <th>9</th>\n      <td>132</td>\n      <td>123</td>\n      <td>4</td>\n      <td>556</td>\n    </tr>\n  </tbody>\n</table>\n</div>",
      "text/plain": "     c1    c2    c3    c4\n0   101   205   300   324\n1   303   111     6    23\n2    23  1000  1112   324\n3    23    45  3242     1\n4     0     0   999   999\n5   123   345   445     0\n6    32  3424    23     3\n7  4324    23   566    21\n8     1     2  3456  4321\n9   132   123     4   556"
     },
     "execution_count": 4,
     "metadata": {},
     "output_type": "execute_result"
    }
   ],
   "source": [
    "# CSV -> DataFrame\n",
    "df = pd.read_csv('sample.csv', encoding='shift_jis')\n",
    "\n",
    "df"
   ]
  },
  {
   "cell_type": "markdown",
   "metadata": {},
   "source": [
    "#### Webページから表部分だけをスクレイピングすることもできます。"
   ]
  },
  {
   "cell_type": "code",
   "execution_count": 5,
   "metadata": {},
   "outputs": [
    {
     "data": {
      "text/html": "<div>\n<style scoped>\n    .dataframe tbody tr th:only-of-type {\n        vertical-align: middle;\n    }\n\n    .dataframe tbody tr th {\n        vertical-align: top;\n    }\n\n    .dataframe thead th {\n        text-align: right;\n    }\n</style>\n<table border=\"1\" class=\"dataframe\">\n  <thead>\n    <tr style=\"text-align: right;\">\n      <th></th>\n      <th>0</th>\n      <th>1</th>\n      <th>2</th>\n      <th>3</th>\n      <th>...</th>\n      <th>29</th>\n      <th>30</th>\n      <th>31</th>\n      <th>32</th>\n    </tr>\n  </thead>\n  <tbody>\n    <tr>\n      <th>0</th>\n      <td>地点</td>\n      <td>気圧</td>\n      <td>気圧</td>\n      <td>気圧</td>\n      <td>...</td>\n      <td>降雪の深さ合計</td>\n      <td>最深積雪</td>\n      <td>天気概況</td>\n      <td>天気概況</td>\n    </tr>\n    <tr>\n      <th>1</th>\n      <td>地点</td>\n      <td>現地</td>\n      <td>海面</td>\n      <td>最低海面</td>\n      <td>...</td>\n      <td>降雪の深さ合計</td>\n      <td>最深積雪</td>\n      <td>0600-1800</td>\n      <td>1800-翌0600</td>\n    </tr>\n    <tr>\n      <th>2</th>\n      <td>地点</td>\n      <td>平均</td>\n      <td>平均</td>\n      <td>値</td>\n      <td>...</td>\n      <td>降雪の深さ合計</td>\n      <td>最深積雪</td>\n      <td>0600-1800</td>\n      <td>1800-翌0600</td>\n    </tr>\n    <tr>\n      <th>3</th>\n      <td>札幌</td>\n      <td>NaN</td>\n      <td>NaN</td>\n      <td>1012.4]</td>\n      <td>...</td>\n      <td>--]</td>\n      <td>--]</td>\n      <td>NaN</td>\n      <td>NaN</td>\n    </tr>\n    <tr>\n      <th>4</th>\n      <td>稚内</td>\n      <td>NaN</td>\n      <td>NaN</td>\n      <td>1016.0]</td>\n      <td>...</td>\n      <td>--]</td>\n      <td>--]</td>\n      <td>NaN</td>\n      <td>NaN</td>\n    </tr>\n    <tr>\n      <th>...</th>\n      <td>...</td>\n      <td>...</td>\n      <td>...</td>\n      <td>...</td>\n      <td>...</td>\n      <td>...</td>\n      <td>...</td>\n      <td>...</td>\n      <td>...</td>\n    </tr>\n    <tr>\n      <th>30</th>\n      <td>盛岡</td>\n      <td>NaN</td>\n      <td>NaN</td>\n      <td>1007.2]</td>\n      <td>...</td>\n      <td>--]</td>\n      <td>--]</td>\n      <td>NaN</td>\n      <td>NaN</td>\n    </tr>\n    <tr>\n      <th>31</th>\n      <td>大船渡</td>\n      <td>NaN</td>\n      <td>NaN</td>\n      <td>1006.2]</td>\n      <td>...</td>\n      <td>--]</td>\n      <td>--]</td>\n      <td>NaN</td>\n      <td>NaN</td>\n    </tr>\n    <tr>\n      <th>32</th>\n      <td>宮古</td>\n      <td>NaN</td>\n      <td>NaN</td>\n      <td>1007.5]</td>\n      <td>...</td>\n      <td>--]</td>\n      <td>--]</td>\n      <td>NaN</td>\n      <td>NaN</td>\n    </tr>\n    <tr>\n      <th>33</th>\n      <td>仙台</td>\n      <td>NaN</td>\n      <td>NaN</td>\n      <td>1005.9]</td>\n      <td>...</td>\n      <td>--]</td>\n      <td>--]</td>\n      <td>NaN</td>\n      <td>NaN</td>\n    </tr>\n    <tr>\n      <th>34</th>\n      <td>石巻</td>\n      <td>NaN</td>\n      <td>NaN</td>\n      <td>1006.1]</td>\n      <td>...</td>\n      <td>--]</td>\n      <td>--]</td>\n      <td>NaN</td>\n      <td>NaN</td>\n    </tr>\n  </tbody>\n</table>\n<p>35 rows × 33 columns</p>\n</div>",
      "text/plain": "     0    1    2        3   ...       29    30         31          32\n0    地点   気圧   気圧       気圧  ...  降雪の深さ合計  最深積雪       天気概況        天気概況\n1    地点   現地   海面     最低海面  ...  降雪の深さ合計  最深積雪  0600-1800  1800-翌0600\n2    地点   平均   平均        値  ...  降雪の深さ合計  最深積雪  0600-1800  1800-翌0600\n3    札幌  NaN  NaN  1012.4]  ...      --]   --]        NaN         NaN\n4    稚内  NaN  NaN  1016.0]  ...      --]   --]        NaN         NaN\n..  ...  ...  ...      ...  ...      ...   ...        ...         ...\n30   盛岡  NaN  NaN  1007.2]  ...      --]   --]        NaN         NaN\n31  大船渡  NaN  NaN  1006.2]  ...      --]   --]        NaN         NaN\n32   宮古  NaN  NaN  1007.5]  ...      --]   --]        NaN         NaN\n33   仙台  NaN  NaN  1005.9]  ...      --]   --]        NaN         NaN\n34   石巻  NaN  NaN  1006.1]  ...      --]   --]        NaN         NaN\n\n[35 rows x 33 columns]"
     },
     "execution_count": 5,
     "metadata": {},
     "output_type": "execute_result"
    }
   ],
   "source": [
    "# 気象庁、最新の気象データより\n",
    "dfs = pd.read_html(\"https://www.data.jma.go.jp/obd/stats/data/mdrr/synopday/data1s.html\")\n",
    "\n",
    "# dfs[0], dfs[1], dfs[2]... に 1, 2, 3... 番目の表が入る。\n",
    "dfs[0]"
   ]
  },
  {
   "cell_type": "markdown",
   "metadata": {},
   "source": [
    "#### その他\n",
    "\n",
    "　Excel などよく使われるアプリケーションのデータを、直接読み込む仕組みも用意されています（要追加ライブラリ）"
   ]
  },
  {
   "cell_type": "markdown",
   "metadata": {},
   "source": [
    "#### 要素のデータ型\n",
    "\n",
    "　DataFrame内の各要素のデータ型は、列毎に同じ型になるよう自動的に型変換が行われます。\n",
    "\n",
    "　明示的にある型に揃えたい場合は astype()メソッドを使います。"
   ]
  },
  {
   "cell_type": "code",
   "execution_count": 6,
   "metadata": {},
   "outputs": [
    {
     "data": {
      "text/html": "<div>\n<style scoped>\n    .dataframe tbody tr th:only-of-type {\n        vertical-align: middle;\n    }\n\n    .dataframe tbody tr th {\n        vertical-align: top;\n    }\n\n    .dataframe thead th {\n        text-align: right;\n    }\n</style>\n<table border=\"1\" class=\"dataframe\">\n  <thead>\n    <tr style=\"text-align: right;\">\n      <th></th>\n      <th>0</th>\n      <th>1</th>\n    </tr>\n  </thead>\n  <tbody>\n    <tr>\n      <th>0</th>\n      <td>1</td>\n      <td>2.0</td>\n    </tr>\n    <tr>\n      <th>1</th>\n      <td>3</td>\n      <td>4.0</td>\n    </tr>\n  </tbody>\n</table>\n</div>",
      "text/plain": "   0    1\n0  1  2.0\n1  3  4.0"
     },
     "execution_count": 6,
     "metadata": {},
     "output_type": "execute_result"
    }
   ],
   "source": [
    "df = pd.DataFrame(\n",
    "    [[1, 2.0],\n",
    "    [3, 4]]\n",
    ")\n",
    "# 2列目は 2.0 があるので、4 -> 4.0 に型が変わります。\n",
    "df"
   ]
  },
  {
   "cell_type": "code",
   "execution_count": 7,
   "metadata": {},
   "outputs": [
    {
     "data": {
      "text/html": "<div>\n<style scoped>\n    .dataframe tbody tr th:only-of-type {\n        vertical-align: middle;\n    }\n\n    .dataframe tbody tr th {\n        vertical-align: top;\n    }\n\n    .dataframe thead th {\n        text-align: right;\n    }\n</style>\n<table border=\"1\" class=\"dataframe\">\n  <thead>\n    <tr style=\"text-align: right;\">\n      <th></th>\n      <th>0</th>\n      <th>1</th>\n    </tr>\n  </thead>\n  <tbody>\n    <tr>\n      <th>0</th>\n      <td>1</td>\n      <td>2</td>\n    </tr>\n    <tr>\n      <th>1</th>\n      <td>3</td>\n      <td>4</td>\n    </tr>\n  </tbody>\n</table>\n</div>",
      "text/plain": "   0  1\n0  1  2\n1  3  4"
     },
     "execution_count": 7,
     "metadata": {},
     "output_type": "execute_result"
    }
   ],
   "source": [
    "# astype() で型を変更します。型名を引数とすると、全データが指定型に変わります。\n",
    "df3 = df.astype('int')\n",
    "df3"
   ]
  },
  {
   "cell_type": "code",
   "execution_count": 8,
   "metadata": {},
   "outputs": [
    {
     "data": {
      "text/html": "<div>\n<style scoped>\n    .dataframe tbody tr th:only-of-type {\n        vertical-align: middle;\n    }\n\n    .dataframe tbody tr th {\n        vertical-align: top;\n    }\n\n    .dataframe thead th {\n        text-align: right;\n    }\n</style>\n<table border=\"1\" class=\"dataframe\">\n  <thead>\n    <tr style=\"text-align: right;\">\n      <th></th>\n      <th>0</th>\n      <th>1</th>\n    </tr>\n  </thead>\n  <tbody>\n    <tr>\n      <th>0</th>\n      <td>1.0</td>\n      <td>2</td>\n    </tr>\n    <tr>\n      <th>1</th>\n      <td>3.0</td>\n      <td>4</td>\n    </tr>\n  </tbody>\n</table>\n</div>",
      "text/plain": "     0  1\n0  1.0  2\n1  3.0  4"
     },
     "execution_count": 8,
     "metadata": {},
     "output_type": "execute_result"
    }
   ],
   "source": [
    "# 列ごと型を変えたい場合は、{列:型, 列:型...} の辞書を引数に与えます\n",
    "df2 = df.astype({0:'float', 1:'int'})\n",
    "df2"
   ]
  },
  {
   "cell_type": "markdown",
   "metadata": {},
   "source": [
    "### 行、列、要素へのアクセス\n",
    "\n",
    "　DataFrame内の各データへのアクセスのしかたです。"
   ]
  },
  {
   "cell_type": "code",
   "execution_count": 9,
   "metadata": {},
   "outputs": [],
   "source": [
    "# 乱数でサンプルデータを作成\n",
    "import random\n",
    "random.seed(10)\n",
    "\n",
    "df  = pd.DataFrame(\n",
    "    [[random.random() for x in range(4)] \n",
    "      for y in range(7)],\n",
    "    columns=list('ABCD'))"
   ]
  },
  {
   "cell_type": "code",
   "execution_count": 10,
   "metadata": {},
   "outputs": [
    {
     "data": {
      "text/html": "<div>\n<style scoped>\n    .dataframe tbody tr th:only-of-type {\n        vertical-align: middle;\n    }\n\n    .dataframe tbody tr th {\n        vertical-align: top;\n    }\n\n    .dataframe thead th {\n        text-align: right;\n    }\n</style>\n<table border=\"1\" class=\"dataframe\">\n  <thead>\n    <tr style=\"text-align: right;\">\n      <th></th>\n      <th>A</th>\n      <th>B</th>\n      <th>C</th>\n      <th>D</th>\n    </tr>\n  </thead>\n  <tbody>\n    <tr>\n      <th>0</th>\n      <td>0.571403</td>\n      <td>0.428889</td>\n      <td>0.578091</td>\n      <td>0.206098</td>\n    </tr>\n    <tr>\n      <th>1</th>\n      <td>0.813321</td>\n      <td>0.823589</td>\n      <td>0.653473</td>\n      <td>0.160230</td>\n    </tr>\n    <tr>\n      <th>2</th>\n      <td>0.520669</td>\n      <td>0.327773</td>\n      <td>0.249997</td>\n      <td>0.952817</td>\n    </tr>\n    <tr>\n      <th>3</th>\n      <td>0.996557</td>\n      <td>0.044556</td>\n      <td>0.860161</td>\n      <td>0.603191</td>\n    </tr>\n    <tr>\n      <th>4</th>\n      <td>0.381606</td>\n      <td>0.283618</td>\n      <td>0.674965</td>\n      <td>0.456831</td>\n    </tr>\n  </tbody>\n</table>\n</div>",
      "text/plain": "          A         B         C         D\n0  0.571403  0.428889  0.578091  0.206098\n1  0.813321  0.823589  0.653473  0.160230\n2  0.520669  0.327773  0.249997  0.952817\n3  0.996557  0.044556  0.860161  0.603191\n4  0.381606  0.283618  0.674965  0.456831"
     },
     "execution_count": 10,
     "metadata": {},
     "output_type": "execute_result"
    }
   ],
   "source": [
    "# 最初の5行を出力(引数を指定するとその行数)\n",
    "df.head()"
   ]
  },
  {
   "cell_type": "markdown",
   "metadata": {},
   "source": [
    "#### 列、行、要素を指定するには\n",
    "\n",
    "- 列  \n",
    "df[列名] で列を Series 型のデータとして取得できます。  \n",
    "df[[列名, 列名, ...]] とすると、DataFrame型のデータが取得できます。\n",
    "\n",
    "- 行  \n",
    "df[行番号:行番号] とスライス型で指定すると、DataFrame型のデータが取得できます。  \n",
    "(注意1)一行だけの場合もスライス型で指定しなくてはいけません。  \n",
    "(注意2)行番号で指定したときは、: の右の行は含みません。\n",
    "\n",
    "- 要素  \n",
    "行を取り出してから列を（または列を取り出してから行を)とりだします。  \n",
    "一行で書くなら、df[行番号:行番号][列名] または df[列名][行番号:行番号] などの形式です。\n"
   ]
  },
  {
   "cell_type": "code",
   "execution_count": 11,
   "metadata": {},
   "outputs": [
    {
     "name": "stdout",
     "output_type": "stream",
     "text": [
      "0    0.571403\n",
      "1    0.813321\n",
      "2    0.520669\n",
      "3    0.996557\n",
      "4    0.381606\n",
      "5    0.685861\n",
      "6    0.982413\n",
      "Name: A, dtype: float64\n",
      "\n",
      "          A         C\n",
      "0  0.571403  0.578091\n",
      "1  0.813321  0.653473\n",
      "2  0.520669  0.249997\n",
      "3  0.996557  0.860161\n",
      "4  0.381606  0.674965\n",
      "5  0.685861  0.132978\n",
      "6  0.982413  0.613327\n",
      "\n",
      "          A\n",
      "0  0.571403\n",
      "1  0.813321\n",
      "2  0.520669\n",
      "3  0.996557\n",
      "4  0.381606\n",
      "5  0.685861\n",
      "6  0.982413\n",
      "\n",
      "          A         B         C         D\n",
      "0  0.571403  0.428889  0.578091  0.206098\n",
      "\n",
      "0    0.571403\n",
      "Name: A, dtype: float64\n",
      "\n",
      "0    0.571403\n",
      "Name: A, dtype: float64\n",
      "\n",
      "0    0.571403\n",
      "Name: A, dtype: float64\n",
      "\n"
     ]
    }
   ],
   "source": [
    "# インデクスで指定すると行が取れる(Seriese型)\n",
    "print(df['A'])\n",
    "print()\n",
    "\n",
    "# 複数列\n",
    "print(df[['A','C']])\n",
    "print()\n",
    "\n",
    "# 一行でもDataFrameがほしい場合は[[]]を使う\n",
    "print(df[['A']])\n",
    "print()\n",
    "\n",
    "# スライスで1行だけ(右側のインデックスは含まない)\n",
    "print(df[0:1])\n",
    "print()\n",
    "\n",
    "# 行->列の順で取り出す\n",
    "r_q = df[0:1]   # 行 0\n",
    "print(r_q['A'])     # 列'A'\n",
    "print()\n",
    "# 一行でも書ける\n",
    "print(df[0:1]['A'])\n",
    "print()\n",
    "# 列->行でも可\n",
    "print(df['A'][0:1])\n",
    "print()"
   ]
  },
  {
   "cell_type": "markdown",
   "metadata": {},
   "source": [
    "#### 列を指定するには他に以下のような方法もあります。\n",
    " \n",
    "- .loc を使う\n",
    "\n",
    "　　　　　.loc[:, [列名, 列名,...]]の形で、列名でのアクセスが可能です。\n",
    "\n",
    "- .iloc を使う\n",
    "\n",
    "　　　　　.iloc[:, [列番号, 列番号,...]]の形で、列番号でのアクセスが可能です。"
   ]
  },
  {
   "cell_type": "code",
   "execution_count": 12,
   "metadata": {},
   "outputs": [
    {
     "name": "stdout",
     "output_type": "stream",
     "text": [
      "          A         B\n",
      "0  0.571403  0.428889\n",
      "1  0.813321  0.823589\n",
      "2  0.520669  0.327773\n",
      "3  0.996557  0.044556\n",
      "4  0.381606  0.283618\n",
      "5  0.685861  0.661846\n",
      "6  0.982413  0.969388\n",
      "\n",
      "          A         B\n",
      "0  0.571403  0.428889\n",
      "1  0.813321  0.823589\n",
      "2  0.520669  0.327773\n",
      "3  0.996557  0.044556\n",
      "4  0.381606  0.283618\n",
      "5  0.685861  0.661846\n",
      "6  0.982413  0.969388\n"
     ]
    }
   ],
   "source": [
    "# .loc\n",
    "print(df.loc[:, ['A', 'B']])\n",
    "print()\n",
    "\n",
    "# .iloc\n",
    "print(df.iloc[:, [0, 1]])\n"
   ]
  },
  {
   "cell_type": "markdown",
   "metadata": {},
   "source": [
    "#### 行を指定するには、他に以下のような方法もあります。\n",
    "\n",
    "- .loc を使う  \n",
    "行番号で指定します。1行のデータがseries 型で得られます。\n",
    "\n",
    "- .iloc を使う  \n",
    "行番号で指定します。1行のデータがseries 型で得られます。\n",
    "\n",
    "\n",
    "(注) DataFrame では、行にも名前を付けることができます(index属性)。その場合は loc、iloc で動作が変わってきます。"
   ]
  },
  {
   "cell_type": "code",
   "execution_count": 13,
   "metadata": {},
   "outputs": [
    {
     "name": "stdout",
     "output_type": "stream",
     "text": [
      "A    0.571403\n",
      "B    0.428889\n",
      "C    0.578091\n",
      "D    0.206098\n",
      "Name: 0, dtype: float64\n",
      "\n",
      "A    0.571403\n",
      "B    0.428889\n",
      "C    0.578091\n",
      "D    0.206098\n",
      "Name: 0, dtype: float64\n",
      "\n"
     ]
    }
   ],
   "source": [
    "# loc[行番号]\n",
    "print(df.loc[0])\n",
    "print()\n",
    "\n",
    "# iloc[行番号]\n",
    "print(df.iloc[0])\n",
    "print()"
   ]
  },
  {
   "cell_type": "markdown",
   "metadata": {},
   "source": [
    "#### 要素を指定するには、他に以下のような方法もあります。\n",
    "\n",
    "- .atを使う  \n",
    ".loc[行番号, 列名]の形で指定します。\n",
    "\n",
    "- .iatを使う  \n",
    ".iloc[行番号, 列番号]で指定します。\n",
    "\n",
    "- .locを使う  \n",
    ".loc[番号, 列名]の形で指定します。\n",
    "\n",
    "- .iloc を使う  \n",
    ".iloc[行番号, 列番号]で指定します。\n",
    "\n",
    "　at/iat の方が loc/iloc よりも高速です。"
   ]
  },
  {
   "cell_type": "code",
   "execution_count": 14,
   "metadata": {},
   "outputs": [
    {
     "name": "stdout",
     "output_type": "stream",
     "text": [
      "0.4288890546751146\n",
      "\n",
      "0.4288890546751146\n",
      "\n",
      "0.4288890546751146\n",
      "\n",
      "0.4288890546751146\n",
      "\n"
     ]
    }
   ],
   "source": [
    "# at\n",
    "print(df.at[0, 'B'])\n",
    "print()\n",
    "\n",
    "# iat\n",
    "print(df.iat[0, 1])\n",
    "print()\n",
    "\n",
    "# loc\n",
    "print(df.loc[0, 'B'])\n",
    "print()\n",
    "\n",
    "# iloc\n",
    "print(df.iloc[0, 1])\n",
    "print()"
   ]
  },
  {
   "cell_type": "markdown",
   "metadata": {},
   "source": [
    "### 条件を指定してのデータ取り出し\n",
    "\n",
    "　loc[] を使って、条件を満たす行だけを選択することが可能です。"
   ]
  },
  {
   "cell_type": "code",
   "execution_count": 15,
   "metadata": {},
   "outputs": [
    {
     "name": "stdout",
     "output_type": "stream",
     "text": [
      "          A\n",
      "0  0.571403\n",
      "1  0.813321\n",
      "2  0.520669\n",
      "3  0.996557\n",
      "5  0.685861\n",
      "6  0.982413\n",
      "\n",
      "          B         D\n",
      "2  0.327773  0.952817\n",
      "3  0.044556  0.603191\n",
      "4  0.283618  0.456831\n",
      "5  0.661846  0.767838\n",
      "\n"
     ]
    }
   ],
   "source": [
    "# 列 Aの値が0.5以上の行で、列 Aだけを表示\n",
    "df1 = df.loc[df['A'] >= 0.5, ['A']]\n",
    "print(df1)\n",
    "print()\n",
    "\n",
    "# 列 Bの値が列 Dより小さい行で、列 Bと列 Dだけを表示\n",
    "df2 = df.loc[df['B'] < df['D'], ['B', 'D']]\n",
    "print(df2)\n",
    "print()"
   ]
  },
  {
   "cell_type": "markdown",
   "metadata": {},
   "source": [
    "## データの保存\n",
    "\n",
    "　to_csv() で DataFrame を CSV ファイルにセーブすることができます。"
   ]
  },
  {
   "cell_type": "code",
   "execution_count": 16,
   "metadata": {},
   "outputs": [],
   "source": [
    "df.to_csv('outfile.csv', encoding='shift_jis')"
   ]
  },
  {
   "cell_type": "markdown",
   "metadata": {},
   "source": [
    "## データの追加\n",
    "\n",
    "　DataFrame に新たな列を追加するには、\n",
    " \n",
    "- [新列名] に代入\n",
    "- .insert() メソッドを使う\n",
    " \n",
    "　行を追加するには\n",
    " \n",
    "- .loc[新行名] に代入\n"
   ]
  },
  {
   "cell_type": "code",
   "execution_count": 17,
   "metadata": {},
   "outputs": [
    {
     "name": "stdout",
     "output_type": "stream",
     "text": [
      "   A  B  C\n",
      "0  1  2  3\n",
      "1  4  5  6\n",
      "2  7  8  9\n",
      "\n",
      "   A  B  C  Y\n",
      "0  1  2  3  0\n",
      "1  4  5  6  0\n",
      "2  7  8  9  0\n",
      "\n",
      "   A  B    Z  C  Y\n",
      "0  1  2  100  3  0\n",
      "1  4  5  100  6  0\n",
      "2  7  8  100  9  0\n",
      "\n",
      "     A    B    Z    C    Y\n",
      "0    1    2  100    3    0\n",
      "1    4    5  100    6    0\n",
      "2    7    8  100    9    0\n",
      "4  100  100  100  100  100\n",
      "\n"
     ]
    }
   ],
   "source": [
    "df = pd.DataFrame(\n",
    "    [[1, 2, 3],\n",
    "     [4, 5, 6],\n",
    "     [7, 8, 9]],\n",
    "    columns=('A', 'B', 'C'))\n",
    "\n",
    "print(df)\n",
    "print()\n",
    "\n",
    "# 列の追加\n",
    "df['Y'] = 0   # 右辺値にはスカラー、リスト、Series が指定可\n",
    "print(df)\n",
    "print()\n",
    "\n",
    "# 任意の列に挿入したいときは\n",
    "# .insert(挿入位置, 新列名, 値)\n",
    "df.insert(2, 'Z', 100)\n",
    "print(df)\n",
    "print()\n",
    "\n",
    "# 行の挿入\n",
    "df.loc[4] = 100\n",
    "print(df)\n",
    "print()\n"
   ]
  },
  {
   "cell_type": "markdown",
   "metadata": {},
   "source": [
    "## DataFrame の結合\n",
    "\n",
    "　複数の DataFrame をくっつけて一つの DataFrame にすることができます。\n",
    "\n",
    "- 単純な連結  \n",
    "複数の DataFrame を列方向、または行方向に単純につなげる場合は、pd.concat() を使います。\n",
    "    \n",
    "- 列の値でマージ  \n",
    "2つの DataFrame を列の値をキーにして一つの DataFrameにまとめる場合は、pd.merge()を使います。\n",
    "　　　　"
   ]
  },
  {
   "cell_type": "code",
   "execution_count": 18,
   "metadata": {},
   "outputs": [],
   "source": [
    "df1 = pd.DataFrame(\n",
    "    [['A0', 'B0', 'C0'],\n",
    "    ['A1', 'B1', 'C1'],\n",
    "    ['A2', 'B2', 'C2']],\n",
    "    columns=('A', 'B', 'C'))\n",
    "df2 = pd.DataFrame(\n",
    "    [['b0', 'c0', 'd0'],\n",
    "    ['b1', 'c1', 'd1'],\n",
    "    ['b2', 'c2', 'd2'],\n",
    "    ['b3', 'c3', 'd3']],\n",
    "    columns=('B', 'C', 'D'))"
   ]
  },
  {
   "cell_type": "code",
   "execution_count": 19,
   "metadata": {},
   "outputs": [
    {
     "name": "stdout",
     "output_type": "stream",
     "text": [
      "     A   B   C    D\n",
      "0   A0  B0  C0  NaN\n",
      "1   A1  B1  C1  NaN\n",
      "2   A2  B2  C2  NaN\n",
      "0  NaN  b0  c0   d0\n",
      "1  NaN  b1  c1   d1\n",
      "2  NaN  b2  c2   d2\n",
      "3  NaN  b3  c3   d3\n"
     ]
    }
   ],
   "source": [
    "# 行方向の連結\n",
    "# 無い列の値は NaN になる。\n",
    "df_cat = pd.concat([df1, df2])\n",
    "print(df_cat)"
   ]
  },
  {
   "cell_type": "code",
   "execution_count": 20,
   "metadata": {},
   "outputs": [
    {
     "name": "stdout",
     "output_type": "stream",
     "text": [
      "     A    B    C   B   C   D\n",
      "0   A0   B0   C0  b0  c0  d0\n",
      "1   A1   B1   C1  b1  c1  d1\n",
      "2   A2   B2   C2  b2  c2  d2\n",
      "3  NaN  NaN  NaN  b3  c3  d3\n"
     ]
    }
   ],
   "source": [
    "# 列方向の連結\n",
    "# 行が短い方には NaN が入る。\n",
    "df_cat2 = pd.concat([df1, df2], axis=1)\n",
    "print(df_cat2)"
   ]
  },
  {
   "cell_type": "code",
   "execution_count": 21,
   "metadata": {},
   "outputs": [
    {
     "name": "stdout",
     "output_type": "stream",
     "text": [
      "     A   B   C    D\n",
      "0   A0  B0  C0  NaN\n",
      "1   A1  B1  C1  NaN\n",
      "2   A2  B2  C2  NaN\n",
      "3  NaN  b0  c0   d0\n",
      "4  NaN  b1  c1   d1\n",
      "5  NaN  b2  c2   d2\n",
      "6  NaN  b3  c3   d3\n"
     ]
    }
   ],
   "source": [
    "# マージ\n",
    "# 共通の列名('B', 'C')をキーにして、2つの表をマージする。\n",
    "# 結果の行名がconcatと違うことに注目。\n",
    "df_merged = pd.merge(df1, df2, on=['B','C'], how='outer')\n",
    "print(df_merged)"
   ]
  },
  {
   "cell_type": "markdown",
   "metadata": {},
   "source": [
    "## 欠損値の扱い\n",
    "\n",
    "　収集したデータの一部が欠けていることがよくあります。Pandas ではそうした欠損値を処理するため関数が用意されています。 \n",
    " "
   ]
  },
  {
   "cell_type": "markdown",
   "metadata": {},
   "source": [
    "### 欠損値の有無を調べる\n",
    "\n",
    "　DataFrame 中に欠損値があるかどうか調べるには、pd.DataFrame.isnull()メソッドを使います。\n",
    " \n",
    "　.isnull()メソッドは、元のDataFrameと同じ形で NaN の場所が True であるような新しい DataFrame を返します。.isnull()メソッドの結果に対し、values 属性と in 演算子を使えば、元の DataFrame中に欠損値があったかどうかがわかります。また列(行)内に1個でも True があれば True を返す .any() メソッドを使えば、列(行)ごとに欠損値の有無を調べられます。"
   ]
  },
  {
   "cell_type": "code",
   "execution_count": 22,
   "metadata": {},
   "outputs": [
    {
     "name": "stdout",
     "output_type": "stream",
     "text": [
      "   A    B  C\n",
      "0  1  NaN  3\n",
      "1  4  5.0  6\n",
      "2  7  8.0  9\n",
      "\n",
      "       A      B      C\n",
      "0  False   True  False\n",
      "1  False  False  False\n",
      "2  False  False  False\n",
      "\n",
      "True\n",
      "\n",
      "A    False\n",
      "B     True\n",
      "C    False\n",
      "dtype: bool\n",
      "\n",
      "0     True\n",
      "1    False\n",
      "2    False\n",
      "dtype: bool\n",
      "\n"
     ]
    }
   ],
   "source": [
    "df = pd.DataFrame(\n",
    "    [[1, None, 3],\n",
    "    [4, 5, 6],\n",
    "    [7, 8, 9]],\n",
    "    columns=('A', 'B', 'C'))\n",
    "\n",
    "print(df)\n",
    "print()\n",
    "\n",
    "# isnull()\n",
    "is_null = df.isnull()\n",
    "print(is_null)\n",
    "print()\n",
    "\n",
    "# values 属性で値を取り出し、in 演算子でFalseの有無を調べる\n",
    "print(False in is_null.values)\n",
    "print()\n",
    "\n",
    "# どの列に NaN があるか？\n",
    "print(is_null.any())\n",
    "print()\n",
    "# どの行に NaN があるか？\n",
    "print(is_null.any(axis=1))\n",
    "print()"
   ]
  },
  {
   "cell_type": "markdown",
   "metadata": {},
   "source": [
    "### 欠損値を削除する\n",
    "\n",
    "　欠損値を含む行または列を削除するには、pd.DataFrame.dropna() メソッドを使います。"
   ]
  },
  {
   "cell_type": "code",
   "execution_count": 23,
   "metadata": {},
   "outputs": [
    {
     "name": "stdout",
     "output_type": "stream",
     "text": [
      "   A    B  C\n",
      "1  4  5.0  6\n",
      "2  7  8.0  9\n",
      "\n",
      "   A  C\n",
      "0  1  3\n",
      "1  4  6\n",
      "2  7  9\n",
      "\n"
     ]
    }
   ],
   "source": [
    "# 行を削除\n",
    "df_delna1 = df.dropna()\n",
    "print(df_delna1)\n",
    "print()\n",
    "\n",
    "# 列を削除\n",
    "df_delna2 = df.dropna(axis=1)\n",
    "print(df_delna2)\n",
    "print()"
   ]
  },
  {
   "cell_type": "markdown",
   "metadata": {},
   "source": [
    "### 欠損値を穴埋めする\n",
    "\n",
    "　欠損値を適当な値で埋め合わせするには、pd.DataFrame.fillna()メソッドを使います。"
   ]
  },
  {
   "cell_type": "code",
   "execution_count": 24,
   "metadata": {},
   "outputs": [
    {
     "name": "stdout",
     "output_type": "stream",
     "text": [
      "   A    B  C\n",
      "0  1  0.0  3\n",
      "1  4  5.0  6\n",
      "2  7  8.0  9\n"
     ]
    }
   ],
   "source": [
    "# 0 で穴埋め\n",
    "df_fill1 = df.fillna(0)\n",
    "print(df_fill1)\n"
   ]
  },
  {
   "cell_type": "markdown",
   "metadata": {},
   "source": [
    "## その他の処理\n",
    "\n",
    "　DataFrame でよく使われるメソッドを挙げます。\n",
    " \n",
    "- .sum() ：　合計\n",
    "\n",
    "- .mean() ：　平均\n",
    "\n",
    "- .max(), .min() ：　最大値、最小値\n",
    "\n",
    "- .idxmax(), .idxmin() ：　最大値、最小値の行番号\n",
    "\n",
    "- .sort_values() ：　並び替え\n",
    "\n",
    "- .drop_duplicates() ：　重複行の削除\n",
    "\n",
    "- .replace() ：　データの置換\n",
    "\n",
    "- .values ：　要素をリストとして取り出す(属性値)\n"
   ]
  },
  {
   "cell_type": "code",
   "execution_count": 25,
   "metadata": {},
   "outputs": [
    {
     "name": "stdout",
     "output_type": "stream",
     "text": [
      "   A   B   C\n",
      "0  1  11   6\n",
      "1  2  12   1\n",
      "2  3   0   9\n",
      "3  4   5  10\n"
     ]
    }
   ],
   "source": [
    "df = pd.DataFrame(\n",
    "    [[1, 11, 6],\n",
    "    [2, 12, 1],\n",
    "    [3, 0, 9],\n",
    "    [4, 5, 10]],\n",
    "    columns=('A', 'B', 'C'))\n",
    "\n",
    "print(df)\n"
   ]
  },
  {
   "cell_type": "code",
   "execution_count": 26,
   "metadata": {},
   "outputs": [
    {
     "name": "stdout",
     "output_type": "stream",
     "text": [
      "0    18\n",
      "1    15\n",
      "2    12\n",
      "3    19\n",
      "dtype: int64\n"
     ]
    }
   ],
   "source": [
    "# 列ごとの合計\n",
    "sum = df.sum(axis=1)\n",
    "print(sum)"
   ]
  },
  {
   "cell_type": "code",
   "execution_count": 27,
   "metadata": {},
   "outputs": [
    {
     "name": "stdout",
     "output_type": "stream",
     "text": [
      "A    2.5\n",
      "B    7.0\n",
      "C    6.5\n",
      "dtype: float64\n"
     ]
    }
   ],
   "source": [
    "# 列ごとの平均\n",
    "mean = df.mean()\n",
    "print(mean)"
   ]
  },
  {
   "cell_type": "code",
   "execution_count": 28,
   "metadata": {},
   "outputs": [
    {
     "name": "stdout",
     "output_type": "stream",
     "text": [
      "A     4\n",
      "B    12\n",
      "C    10\n",
      "dtype: int64\n"
     ]
    }
   ],
   "source": [
    "# 列ごとの最大値\n",
    "max = df.max()\n",
    "print(max)"
   ]
  },
  {
   "cell_type": "code",
   "execution_count": 29,
   "metadata": {},
   "outputs": [
    {
     "name": "stdout",
     "output_type": "stream",
     "text": [
      "A    0\n",
      "B    2\n",
      "C    1\n",
      "dtype: int64\n"
     ]
    }
   ],
   "source": [
    "# 列ごとの最小値をとる行\n",
    "idxmin = df.idxmin()\n",
    "print(idxmin)"
   ]
  },
  {
   "cell_type": "code",
   "execution_count": 30,
   "metadata": {},
   "outputs": [
    {
     "name": "stdout",
     "output_type": "stream",
     "text": [
      "   A   B   C\n",
      "3  4   5  10\n",
      "2  3   0   9\n",
      "1  2  12   1\n",
      "0  1  11   6\n"
     ]
    }
   ],
   "source": [
    "# 行の並び替え\n",
    "sorted = df.sort_values(by='A', ascending=False)\n",
    "print(sorted)\n"
   ]
  },
  {
   "cell_type": "code",
   "execution_count": 31,
   "metadata": {},
   "outputs": [
    {
     "name": "stdout",
     "output_type": "stream",
     "text": [
      "   A   B   C\n",
      "0  1  11   6\n",
      "1  2  12   1\n",
      "2  3   0   9\n",
      "3  4   5  10\n"
     ]
    }
   ],
   "source": [
    "# 重複行削除\n",
    "rm_dup = df.drop_duplicates()\n",
    "print(rm_dup)"
   ]
  },
  {
   "cell_type": "code",
   "execution_count": 32,
   "metadata": {},
   "outputs": [
    {
     "name": "stdout",
     "output_type": "stream",
     "text": [
      "     Name  Age\n",
      "0     Ben   20\n",
      "1     tom   25\n",
      "2  Alicee   20\n",
      "3  Susiee   20\n",
      "4    john   21\n",
      "\n",
      "     Name  Age\n",
      "0     Ben   20\n",
      "1     Tom   25\n",
      "2  Alicee   20\n",
      "3  Susiee   20\n",
      "4    John   21\n",
      "\n",
      "    Name  Age\n",
      "0    Ben   20\n",
      "1    Tom   25\n",
      "2  Alice   20\n",
      "3  Susie   20\n",
      "4   John   21\n",
      "\n"
     ]
    }
   ],
   "source": [
    "# replace\n",
    "df = pd.DataFrame(\n",
    "    [['Ben', 10],\n",
    "     ['tom', 25],\n",
    "     ['Alicee', 10],\n",
    "     ['Susiee', 10],\n",
    "     ['john', 21]],\n",
    "     columns=('Name', 'Age'))\n",
    "\n",
    "df2 = df.replace(10, 20)\n",
    "print(df2)\n",
    "print()\n",
    "\n",
    "# 変更対象の列の指定\n",
    "# 辞書として指定{列名: {変更前1：変更後1, 変更前2:変更後2, ...}}\n",
    "df3 = df2.replace({'Name': {'tom':'Tom', 'john':'John'}})\n",
    "print(df3)\n",
    "print()\n",
    "\n",
    "# 正規表現でのreplace\n",
    "df4 = df3.replace(r'ee$', 'e', regex=True)\n",
    "print(df4)\n",
    "print()\n"
   ]
  },
  {
   "cell_type": "code",
   "execution_count": 40,
   "metadata": {},
   "outputs": [
    {
     "name": "stdout",
     "output_type": "stream",
     "text": [
      "[['Ben' 10]\n",
      " ['tom' 25]\n",
      " ['Alicee' 10]\n",
      " ['Susiee' 10]\n",
      " ['john' 21]]\n",
      "['Ben' 'tom' 'Alicee' 'Susiee' 'john']\n"
     ]
    }
   ],
   "source": [
    "# DataFrame の要素, 列名,をリストとして取り出す。\n",
    "print(df.values)\n",
    "\n",
    "# values は　Series にも使える。\n",
    "print(df['Name'].values)"
   ]
  }
 ],
 "metadata": {
  "kernelspec": {
   "display_name": "Python 3.8.5 64-bit ('base': conda)",
   "name": "python385jvsc74a57bd05e4d6bc0a7e36aad0e919ec0bd295450115234352736602d6fa1da166e08ecc0"
  },
  "language_info": {
   "codemirror_mode": {
    "name": "ipython",
    "version": 3
   },
   "file_extension": ".py",
   "mimetype": "text/x-python",
   "name": "python",
   "nbconvert_exporter": "python",
   "pygments_lexer": "ipython3",
   "version": "3.8.5"
  }
 },
 "nbformat": 4,
 "nbformat_minor": 4
}
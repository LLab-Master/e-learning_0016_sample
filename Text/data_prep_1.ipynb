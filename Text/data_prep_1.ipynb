{
 "cells": [
  {
   "cell_type": "markdown",
   "metadata": {},
   "source": [
    "# はじめに\n",
    "## 本研修の目的\n",
    "\n",
    "　機械学習に必要なデータの前処理を行うため、Pythonによる OpenCV、Pandas の利用方法を理解することを目的とします。\n",
    "\n",
    "## 到達目標\n",
    "  - OpenCV による画像処理の手法を理解する。\n",
    "  - Pandas によるデータクレンジングの手法を理解する。"
   ]
  }
 ],
 "metadata": {
  "kernelspec": {
   "display_name": "Python 3",
   "language": "python",
   "name": "python3"
  },
  "language_info": {
   "codemirror_mode": {
    "name": "ipython",
    "version": 3
   },
   "file_extension": ".py",
   "mimetype": "text/x-python",
   "name": "python",
   "nbconvert_exporter": "python",
   "pygments_lexer": "ipython3",
   "version": "3.7.7"
  }
 },
 "nbformat": 4,
 "nbformat_minor": 4
}
